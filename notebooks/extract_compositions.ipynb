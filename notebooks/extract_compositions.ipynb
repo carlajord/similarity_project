{
 "cells": [
  {
   "cell_type": "code",
   "execution_count": 2,
   "metadata": {},
   "outputs": [],
   "source": [
    "import os, sys, json\n",
    "from dotenv import load_dotenv\n",
    "import numpy as np, pandas as pd\n",
    "from langchain_openai import AzureOpenAIEmbeddings, AzureChatOpenAI\n",
    "\n",
    "from langchain_core.messages import SystemMessage\n",
    "from langchain_core.prompts import HumanMessagePromptTemplate, ChatPromptTemplate\n",
    "\n",
    "import faiss\n",
    "\n",
    "from langchain_community.vectorstores import FAISS\n",
    "from langchain_community.docstore.in_memory import InMemoryDocstore\n",
    "\n",
    "from langchain_core.documents import Document\n",
    "\n",
    "from uuid import uuid4"
   ]
  },
  {
   "cell_type": "markdown",
   "metadata": {},
   "source": [
    "LLM config"
   ]
  },
  {
   "cell_type": "code",
   "execution_count": 3,
   "metadata": {},
   "outputs": [],
   "source": [
    "load_dotenv()\n",
    "\n",
    "AZURE_DEPLOYMENT = \"gpt-4o\"\n",
    "#API_VERSION = \"2023-06-01-preview\"\n",
    "API_VERSION = \"2024-08-01-preview\"\n"
   ]
  },
  {
   "cell_type": "code",
   "execution_count": 4,
   "metadata": {},
   "outputs": [],
   "source": [
    "llm = AzureChatOpenAI(\n",
    "    azure_deployment=AZURE_DEPLOYMENT,  # or your deployment\n",
    "    api_version=API_VERSION,  # or your api version\n",
    "    temperature=0,\n",
    "    max_tokens=None,\n",
    "    timeout=None,\n",
    "    max_retries=2,\n",
    "    # handle_parsing_errors=True,\n",
    ")"
   ]
  },
  {
   "cell_type": "code",
   "execution_count": 5,
   "metadata": {},
   "outputs": [],
   "source": [
    "embeddings = AzureOpenAIEmbeddings()"
   ]
  },
  {
   "cell_type": "markdown",
   "metadata": {},
   "source": [
    "llm.invoke('Hi')"
   ]
  },
  {
   "cell_type": "markdown",
   "metadata": {},
   "source": [
    "Data"
   ]
  },
  {
   "cell_type": "code",
   "execution_count": 6,
   "metadata": {},
   "outputs": [],
   "source": [
    "DATA_PATH = os.path.join(os.path.abspath(\"\"), \"..\" ,\"data\")"
   ]
  },
  {
   "cell_type": "code",
   "execution_count": 7,
   "metadata": {},
   "outputs": [],
   "source": [
    "outfile1 = os.path.join(DATA_PATH, \"G929147A_LP_Sales.txt\")\n",
    "outfile2 = os.path.join(DATA_PATH, \"G1320123A_wellhead.txt\")\n",
    "outfile3 = os.path.join(DATA_PATH, \"G1321243A_wellhead.txt\")"
   ]
  },
  {
   "cell_type": "markdown",
   "metadata": {},
   "source": [
    "# Extract compositions through prompt"
   ]
  },
  {
   "cell_type": "code",
   "execution_count": 8,
   "metadata": {},
   "outputs": [],
   "source": [
    "with open(outfile1, encoding='utf-8') as file:\n",
    "    text = file.read()"
   ]
  },
  {
   "cell_type": "code",
   "execution_count": 9,
   "metadata": {},
   "outputs": [
    {
     "data": {
      "text/plain": [
       "'Power Service Inc., Gas Measurement Division\\n2289 Renauna Bldg. 1, Casper, WY 82601; Ph: 307-472-7722 ext. 1305\\n\\nSample Name\\nCompany\\nCounty/State\\nOperator\\nMeter # / Well Name\\n\\nWell Temp.\\n\\nWeil Pressure\\n\\nFlowCal From\\n\\nFlowCal To\\n\\nH2S PPM\\n\\n*H2S Results provided by CHK\\nMethod Name\\n\\nInjection Date\\n\\nReport Date\\n\\nEZReporter Configuration File\\nNGA Phys. Property Data Source\\nData Source\\n\\nComponent | Norm Mol% |\\n\\nName 7 Dry\\nNitrogen\\nMethane\\nCarbon Dioxide\\nEthane\\nPropane\\n\\n0.8715\\n72.6064\\n0.6396\\n11.2958\\n8.2430\\n1.0074\\n3.0569\\n0.7111\\n0.8357\\n0.7326\\n0.0000\\n100.0000\\n\\ni-Butane\\nn-Butane\\ni-Pentane\\nn-Pentane\\nHexanes Plus\\nWater\\n\\nTotal:\\n\\nSample Information\\n\\n{Sample Information\\n\\nNW Fetter 28 USA APK 7H LPSales\\nChesapeake\\n\\nConverse, Wyoming\\n\\nSTAN MCLEAN\\n\\n1364570903\\n\\n93\\n\\n43\\n\\n10/01/2016 8:00\\n\\n1\\n\\n6-27-16\\n\\nC6+Low p.met\\n\\n2016-09-20 18:19:34\\n\\n2016-09-20 12:23:49\\n\\nPSI 14.73 flowcal 07112016.cfg\\nGPA Standard 2145-09 (FPS)\\nEZChrom data system connection\\n\\neatiiedied Results\\n\\nGPM (Dry).\\nBTU (), | (Gal. / 1000 cuft.)\\n\\n0.00 0.000\\n735.02 0.000\\n0.00 0.000\\n200.36 3.034\\n207.88 2.281\\n32.84 0.331\\n99.96 0.968\\n28.52 0.261\\n33.58 0.304\\n37.66 0.319\\n0.00 0.000\\n1375.82 7.498\\n\\nResults Summary\\n\\nResult Dry : Sat | :\\nUnnormalized Total Amount 97, 8770\\nPressure Base (psia) 14.730\\nTemperature Base (Deg F) 60.0\\n\\nIdeal BTU\\nReal BTU\\n\\nSpecific Gravity to Air\\n\\n09/20/2016\\n\\n1375.82 1351.87\\n1382.10 1358.64\\n0.8101 0.8072\\n\\nPARWSFT\\nAL-3BE-7H/\\n\\nRECEIVED\\n\\nOCT 12 2018\\n\\nWYOMING OIL & GAS\\nCONSERVATION COMMISSION\\n\\nPage 1\\n\\n'"
      ]
     },
     "execution_count": 9,
     "metadata": {},
     "output_type": "execute_result"
    }
   ],
   "source": [
    "text"
   ]
  },
  {
   "cell_type": "code",
   "execution_count": 31,
   "metadata": {},
   "outputs": [],
   "source": [
    "system_msg = \"\"\"\n",
    "You are a chemical engineer looking at PVT reports.\n",
    "You extract sampling conditions information from the report, such as Sample Pressure and Sample Temperature.\n",
    "You extract component and composition from the report, such as Methane 90% mole, Ethane 10% mole, etc.\n",
    "You convert the information extracted into a JSON format under the keys \"Conditions\" and \"Components\".\n",
    "Output the information strictly in the JSON format without any extra characters or markdown (such as json or backticks).\n",
    "\n",
    "- For the Conditions key:\n",
    "Each entry within the \"Conditions\" array should be a dictionary representing the Sample Pressure or Sample Temperature.\n",
    "The Sample Pressure and Sample Temperature must be reported along with their respective units.\n",
    "If the value is unavailable, put N/A.\n",
    "\n",
    "- For the \"Components key:\n",
    "Each entry within the \"Components\" array should be a dictionary representing a single component and its corresponding Mole% value from the document.\n",
    "Format it such that each dictionary has a key as the component name and value as the \"Mole%\".\n",
    "If the component \"%\" is not available put N/A.\n",
    "Make sure to include the word \"Plus\" or the character \"+\" in the component name when it is present.\n",
    "\n",
    "- Example of input and expected output:\n",
    "\n",
    "Input:\n",
    "PROJECT NO. COMI'ANY NAME ACCGUNT NO. - PRODUCER LEASE NO.  NAME. DESCRIP ***FIELD DATA®** SAMPI ED BY: SAMPLE PRFS. : COMMENTS      COMPONENT HELIU! HYDROGEN OXYGEN/ARGON NITROGEN  o2  METHANE ETHANE PROPANE I-BUTANE N-BUT/NE I-PENTANE PEN\"ANT: HEXANES PLUS TOTALS               BTEX COMPONENTS MOLE%  BENZE        TOTAL BTEX  (CALC: GASTD 214594 & TF- “DHA (DETAILED HYDROCARBON AN:  ASTH DCI0 THIS DAT:      EMPACT ANALYTICAL SYSTEMS, INC  365  SOUTH MAIN STREET  BRIGHTON, CO 80601  EXTENDED  (303) 637-0150  NATURAL GAS ANALYSIS (*DHA)                 0312028 ANALYSISNO.: 03 COMPLIANCE PARTNERS ANALYSIS DATE:  DECEMBER 7, 2003 SAMPLEDATE :  DECEMBER 4, 2003 WESTERN GAS TO: CYLINDERNO.: 0299 MDU #6 P SCHLAGEL AMBIENT TEMP.: 800 SAMPLE TEMP. 80 GRAVITY NO PROBE GPM@ GPM@ MOLE % MASS % 14.696 14.73 0.004 G001 — = 0.000 0.000 - - 0.000 0.000 - - o7 0184 = = 227 5619 - - 971 83.565 - - 2852 4805 0.7610 07628 0.910 2248 0.2502 02508 019 0637 0.0640 00641 0228 0.741 00717 00719 0.093 0375 0.0339 0.0340 6.065 0.261 00235 0.0236 0285 1564 01187 0.1187 100.000 100.000 13230 13259 WT% BTU@ 14.696 1473 0.008 0.038 NET DRY REAL: 947.15 sef 949.34 fsef 0.001 0.008 LOW NET WET RFAL: 93064 Jscf 932.83 fsef 0011 0058 GROSS DRY REAL 1049.5 fscf 1052.02 fsef 0.005 0032 HIGH ~ GROSS WET REAL 1031.30 /sef 1033.73 fsef 0026 0136 NET DRY REAL: 20142 My GROSS DRY REAL : 22321 b DENSITY (ATR=1) 06172 169 & 605 COMPRESSIBILITY FACTOR 099776        BEEN ACQUIRED THROUGH APPLICATION OF CURRENT STATE-OF - THE-ART ANALYTICAL TECHNIQUES  THE USE (.F T7IIS INFORMATION IS THE RESPONSIBLITY OF THE USER. EMPACT ANALYTICAL SYSTEMS, ASSUMES NO  RESPON:     7Y FOR ACCURACY OF THE REFORTED INFORMATION NOR ANY CONSEQUENCES OF IT'S APPLICATION  59-013 -0/23  SW NW Frement (wnf)/  Madilen Feld . UniotFm,  | -3%-90 \f  EMPACT ANALYTICAL SYSTEMS, INC 365 SOUTH MAIN STREET  BRIGHTON, CO 80601 303) 637-0150  E & P /GlyCalc Information        PROJECTNO. 0312028 ANALYSISNO.: 03 COMPANY NAME:  COMPLIANCE PARTNERS ANALYSIS DATE:  DECEMBER 7, 2003 ACCOUNTNO. : SAMPLE DATE DECEMBER 4, 2003 PRODUCER WESTERN GAS TO:  LEASE NO. CYLINDER NO. 0299 NAMEDESCRIP:  MDU #6  *+++FIELD DATA***  SAMPLED BY: P SCHLAGEL AMBIENT TEMP. SAMPLE PRES. 800 GRAVITY  : COMMENTS NO PROBE SAMPLE TEMP 50 Comporenet Mole % Wi %  Helium 0.004 0.001 Hydrogen 0.000 0.000 Methano 0.000 0.000 Carbon Nioxide 2279 5610 Nitrager 0117 0.184 Methane 92,971 83.565 Ethane 2.852 4.805 Propane 0910 2248 Isobutan: 0.19 06.637 n-Butane 0.228 0.741 Isopenanc 0.093 0375 n-Pentanc 0.065 0.261 Cyclopen-ane 0.006 0023 n-Hexane 0.026 0123 Cyclohexane 0.021 0.100 Other Heanes 0.066 0314 Heptanes 0.045 0258 Methycyclohexane 0037 0.205 2,24 Trimethylpentane 6.000 0.000 Benzene 0.009 0038 Toluene 001 0.058 Fihylbenzene 0.001 0.008 Xylenes 0005 0.032 C8+ Heavies 0.05% 0.405 Subtotal 106,000 100.000 Oxygen 0.000 0.000  Total 100.000 100.000\n",
    "\n",
    "Output:\n",
    "{  \"Conditions\": [{\"Sample Pressure\": \"800 psia\", \"Sample Temperature\": \"80 degF\"}],  \"Components\": [     {\"Helium\": \"0.004\", \"Hydrogen\": \"0.000\", \"Oxygen/Argon\": \"0.000\", \"Nitrogen\": \"0.117\", \"CO2\": \"2.279\", \"Methane\": \"92.971\", \"Ethane\": \"2.852\", \"Propane\": \"0.910\", \"i-Butane\": \"0.196\", \"n-Butane\": \"0.228\", \"i-Pentane\": \"0.093\", \"n-Pentane\": \"0.065\", \"Hexanes Plus\": \"0.285\"}   ] }\n",
    "\"\"\""
   ]
  },
  {
   "cell_type": "code",
   "execution_count": 32,
   "metadata": {},
   "outputs": [],
   "source": [
    "chat_template = ChatPromptTemplate.from_messages(\n",
    "    [\n",
    "        SystemMessage(\n",
    "            content=(\n",
    "                system_msg\n",
    "            )\n",
    "        ),\n",
    "        HumanMessagePromptTemplate.from_template(\"{Input}\"),\n",
    "    ]\n",
    ")"
   ]
  },
  {
   "cell_type": "code",
   "execution_count": 33,
   "metadata": {},
   "outputs": [],
   "source": [
    "chain = chat_template | llm"
   ]
  },
  {
   "cell_type": "code",
   "execution_count": 34,
   "metadata": {},
   "outputs": [
    {
     "name": "stdout",
     "output_type": "stream",
     "text": [
      "{\n",
      "  \"Conditions\": [\n",
      "    {\n",
      "      \"Sample Pressure\": \"93 psia\",\n",
      "      \"Sample Temperature\": \"43 degF\"\n",
      "    }\n",
      "  ],\n",
      "  \"Components\": [\n",
      "    {\n",
      "      \"Nitrogen\": \"0.8715\",\n",
      "      \"Methane\": \"72.6064\",\n",
      "      \"Carbon Dioxide\": \"0.6396\",\n",
      "      \"Ethane\": \"11.2958\",\n",
      "      \"Propane\": \"8.2430\",\n",
      "      \"i-Butane\": \"1.0074\",\n",
      "      \"n-Butane\": \"3.0569\",\n",
      "      \"i-Pentane\": \"0.7111\",\n",
      "      \"n-Pentane\": \"0.8357\",\n",
      "      \"Hexanes Plus\": \"0.7326\",\n",
      "      \"Water\": \"0.0000\"\n",
      "    }\n",
      "  ]\n",
      "}\n"
     ]
    }
   ],
   "source": [
    "response = chain.invoke({\"Input\": text})\n",
    "print(response.content)"
   ]
  },
  {
   "cell_type": "code",
   "execution_count": 35,
   "metadata": {},
   "outputs": [],
   "source": [
    "file_response = json.loads(response.content)"
   ]
  },
  {
   "cell_type": "code",
   "execution_count": 36,
   "metadata": {},
   "outputs": [
    {
     "data": {
      "text/plain": [
       "[{'Sample Pressure': '93 psia', 'Sample Temperature': '43 degF'}]"
      ]
     },
     "execution_count": 36,
     "metadata": {},
     "output_type": "execute_result"
    }
   ],
   "source": [
    "file_response['Conditions']"
   ]
  },
  {
   "cell_type": "code",
   "execution_count": 37,
   "metadata": {},
   "outputs": [
    {
     "data": {
      "text/plain": [
       "[{'Nitrogen': '0.8715',\n",
       "  'Methane': '72.6064',\n",
       "  'Carbon Dioxide': '0.6396',\n",
       "  'Ethane': '11.2958',\n",
       "  'Propane': '8.2430',\n",
       "  'i-Butane': '1.0074',\n",
       "  'n-Butane': '3.0569',\n",
       "  'i-Pentane': '0.7111',\n",
       "  'n-Pentane': '0.8357',\n",
       "  'Hexanes Plus': '0.7326',\n",
       "  'Water': '0.0000'}]"
      ]
     },
     "execution_count": 37,
     "metadata": {},
     "output_type": "execute_result"
    }
   ],
   "source": [
    "file_response['Components']"
   ]
  },
  {
   "cell_type": "code",
   "execution_count": 38,
   "metadata": {},
   "outputs": [],
   "source": [
    "flat_components = file_response['Components'][0]"
   ]
  },
  {
   "cell_type": "code",
   "execution_count": 48,
   "metadata": {},
   "outputs": [
    {
     "data": {
      "text/html": [
       "<div>\n",
       "<style scoped>\n",
       "    .dataframe tbody tr th:only-of-type {\n",
       "        vertical-align: middle;\n",
       "    }\n",
       "\n",
       "    .dataframe tbody tr th {\n",
       "        vertical-align: top;\n",
       "    }\n",
       "\n",
       "    .dataframe thead th {\n",
       "        text-align: right;\n",
       "    }\n",
       "</style>\n",
       "<table border=\"1\" class=\"dataframe\">\n",
       "  <thead>\n",
       "    <tr style=\"text-align: right;\">\n",
       "      <th></th>\n",
       "      <th>D</th>\n",
       "      <th>p</th>\n",
       "      <th>Q</th>\n",
       "      <th>abc</th>\n",
       "    </tr>\n",
       "  </thead>\n",
       "  <tbody>\n",
       "    <tr>\n",
       "      <th>0</th>\n",
       "      <td>10.0</td>\n",
       "      <td>20.0</td>\n",
       "      <td>5.000000</td>\n",
       "      <td>hello</td>\n",
       "    </tr>\n",
       "    <tr>\n",
       "      <th>1</th>\n",
       "      <td>20.0</td>\n",
       "      <td>30.0</td>\n",
       "      <td>5.773503</td>\n",
       "      <td>hello</td>\n",
       "    </tr>\n",
       "    <tr>\n",
       "      <th>2</th>\n",
       "      <td>30.0</td>\n",
       "      <td>10.0</td>\n",
       "      <td>12.247449</td>\n",
       "      <td>hello</td>\n",
       "    </tr>\n",
       "  </tbody>\n",
       "</table>\n",
       "</div>"
      ],
      "text/plain": [
       "      D     p          Q    abc\n",
       "0  10.0  20.0   5.000000  hello\n",
       "1  20.0  30.0   5.773503  hello\n",
       "2  30.0  10.0  12.247449  hello"
      ]
     },
     "execution_count": 48,
     "metadata": {},
     "output_type": "execute_result"
    }
   ],
   "source": [
    "import math\n",
    "df = pd.DataFrame({\"D\": [10,20,30], \"p\": [20, 30, 10]})\n",
    "def EOQ(row,ck,ch):\n",
    "    D = row['D']\n",
    "    p = row['p']\n",
    "    Q = math.sqrt((2*D*ck)/(ch*p))\n",
    "    row['Q'] = Q\n",
    "    row['abc'] = 'hello'\n",
    "    return row\n",
    "ch=0.2\n",
    "ck=5\n",
    "df = df.apply(lambda row: EOQ(row, ck, ch), axis=1)\n",
    "df"
   ]
  },
  {
   "cell_type": "code",
   "execution_count": null,
   "metadata": {},
   "outputs": [],
   "source": []
  },
  {
   "cell_type": "markdown",
   "metadata": {},
   "source": [
    "# Use semantic similarity to lump pseudo-component\n",
    "\n",
    "Get main natural gas components, lump remaining into hexanes plus pseudo-component."
   ]
  },
  {
   "cell_type": "code",
   "execution_count": 39,
   "metadata": {},
   "outputs": [
    {
     "data": {
      "text/plain": [
       "[Document(metadata={}, page_content='Nitrogen'),\n",
       " Document(metadata={}, page_content='Methane'),\n",
       " Document(metadata={}, page_content='Carbon Dioxide'),\n",
       " Document(metadata={}, page_content='Ethane'),\n",
       " Document(metadata={}, page_content='Propane'),\n",
       " Document(metadata={}, page_content='i-Butane'),\n",
       " Document(metadata={}, page_content='n-Butane'),\n",
       " Document(metadata={}, page_content='i-Pentane'),\n",
       " Document(metadata={}, page_content='n-Pentane'),\n",
       " Document(metadata={}, page_content='Hexanes Plus'),\n",
       " Document(metadata={}, page_content='Water')]"
      ]
     },
     "execution_count": 39,
     "metadata": {},
     "output_type": "execute_result"
    }
   ],
   "source": [
    "# get each component with its own index\n",
    "texts = []\n",
    "for comp in list(flat_components.keys()):\n",
    "    texts.append(Document(page_content=comp))\n",
    "texts"
   ]
  },
  {
   "cell_type": "code",
   "execution_count": 19,
   "metadata": {},
   "outputs": [],
   "source": [
    "# Initialization\n",
    "\n",
    "index = faiss.IndexFlatL2(len(embeddings.embed_query(\"hello world\")))\n",
    "\n",
    "vector_store = FAISS(\n",
    "    embedding_function=embeddings,\n",
    "    index=index,\n",
    "    docstore=InMemoryDocstore(),\n",
    "    index_to_docstore_id={},\n",
    ")"
   ]
  },
  {
   "cell_type": "code",
   "execution_count": 20,
   "metadata": {},
   "outputs": [],
   "source": [
    "# Symmetry components library\n",
    "components_sym = [\"METHANE\", \"ETHANE\", \"PROPANE\", \"ISOBUTANE\", \"n-BUTANE\", \\\n",
    "                  \"ISOPENTANE\", \"n-PENTANE\", \"NITROGEN\", \"CARBON_DIOXIDE\"]"
   ]
  },
  {
   "cell_type": "code",
   "execution_count": 21,
   "metadata": {},
   "outputs": [
    {
     "data": {
      "text/plain": [
       "['28dee1f4-c1e2-4a91-a1b9-912050e66490',\n",
       " 'cd5010c9-9db7-4647-812d-ddadc6c58552',\n",
       " 'dbe8989c-a870-4f35-8b5f-49c3a071f906',\n",
       " 'a34e7772-76b1-491c-acc3-097426950c7b',\n",
       " 'be291194-c217-4631-b11c-b7774db0d407',\n",
       " '9287c204-afff-4e9a-ac47-5989746d2167',\n",
       " '56680718-fc6e-4d27-b3fc-226cf97b8ffc',\n",
       " 'd6dd4ae3-e81d-4109-ac5c-8b585143a7c7',\n",
       " '75b001e8-02c4-4de8-ad72-b5e8fedeab49',\n",
       " '98eaa696-a8f8-4c77-8b47-9a1921415032',\n",
       " '5c7a7ade-628b-4fed-b364-eca9cba3341e']"
      ]
     },
     "execution_count": 21,
     "metadata": {},
     "output_type": "execute_result"
    }
   ],
   "source": [
    "# add components to vector store\n",
    "uuids = [str(uuid4()) for _ in range(len(texts))]\n",
    "vector_store.add_documents(documents=texts, ids=uuids)"
   ]
  },
  {
   "cell_type": "code",
   "execution_count": 28,
   "metadata": {},
   "outputs": [],
   "source": [
    "sym_component = {}\n",
    "for comp_sym in components_sym:\n",
    "    resp = vector_store.similarity_search_with_relevance_scores(comp_sym, k=1)\n",
    "    pdf_component = resp[0][0].page_content\n",
    "    try:\n",
    "        var_val = np.float32(flat_components[pdf_component])\n",
    "    except:\n",
    "        var_val = 0.0\n",
    "    sym_component[comp_sym] = var_val\n",
    "val_sum = np.sum(np.fromiter(sym_component.values(), dtype=float))\n",
    "c6_plus = 100.-val_sum\n",
    "sym_component['C6+'] = c6_plus\n",
    "if c6_plus < 0.: sym_component['C6+'] = 0.\n",
    "\n"
   ]
  },
  {
   "cell_type": "code",
   "execution_count": 29,
   "metadata": {},
   "outputs": [
    {
     "data": {
      "text/plain": [
       "dict_values([72.6064, 11.2958, 8.243, 1.0074, 3.0569, 0.7111, 0.8357, 0.8715, 0.6396, 0.732600212097168])"
      ]
     },
     "execution_count": 29,
     "metadata": {},
     "output_type": "execute_result"
    }
   ],
   "source": [
    "sym_component.values()"
   ]
  },
  {
   "cell_type": "code",
   "execution_count": 30,
   "metadata": {},
   "outputs": [
    {
     "data": {
      "text/plain": [
       "{'METHANE': 0.7260639953613282,\n",
       " 'ETHANE': 0.1129580020904541,\n",
       " 'PROPANE': 0.08243000030517578,\n",
       " 'ISOBUTANE': 0.010074000358581543,\n",
       " 'n-BUTANE': 0.030569000244140623,\n",
       " 'ISOPENTANE': 0.007110999822616577,\n",
       " 'n-PENTANE': 0.0083569997549057,\n",
       " 'NITROGEN': 0.00871500015258789,\n",
       " 'CARBON_DIOXIDE': 0.0063959997892379765,\n",
       " 'C6+': 0.00732600212097168}"
      ]
     },
     "execution_count": 30,
     "metadata": {},
     "output_type": "execute_result"
    }
   ],
   "source": [
    "normalized_values = np.fromiter(sym_component.values(), dtype=float)/np.sum(np.fromiter(sym_component.values(), dtype=float))\n",
    "sym_component_normalized = dict(zip(sym_component, normalized_values))\n",
    "sym_component_normalized"
   ]
  },
  {
   "cell_type": "code",
   "execution_count": null,
   "metadata": {},
   "outputs": [],
   "source": []
  }
 ],
 "metadata": {
  "kernelspec": {
   "display_name": "comp_adv_genai",
   "language": "python",
   "name": "python3"
  },
  "language_info": {
   "codemirror_mode": {
    "name": "ipython",
    "version": 3
   },
   "file_extension": ".py",
   "mimetype": "text/x-python",
   "name": "python",
   "nbconvert_exporter": "python",
   "pygments_lexer": "ipython3",
   "version": "3.11.10"
  }
 },
 "nbformat": 4,
 "nbformat_minor": 2
}
