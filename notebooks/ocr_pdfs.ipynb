{
 "cells": [
  {
   "cell_type": "code",
   "execution_count": 1,
   "metadata": {},
   "outputs": [],
   "source": [
    "import os, sys, json\n",
    "\n",
    "from tempfile import TemporaryDirectory\n",
    "\n",
    "from PIL import Image\n",
    "from pdf2image import convert_from_path\n",
    "import pytesseract"
   ]
  },
  {
   "cell_type": "code",
   "execution_count": 2,
   "metadata": {},
   "outputs": [],
   "source": [
    "DATA_PATH = os.path.join(os.path.abspath(\"\"), \"..\" ,\"data\")"
   ]
  },
  {
   "cell_type": "markdown",
   "metadata": {},
   "source": [
    "# Get PDF's in text format using OCR"
   ]
  },
  {
   "cell_type": "code",
   "execution_count": 3,
   "metadata": {},
   "outputs": [],
   "source": [
    "file1 = os.path.join(DATA_PATH, \"G929147A_LP_Sales.pdf\")\n",
    "file2 = os.path.join(DATA_PATH, \"G1320123A_wellhead.pdf\")\n",
    "file3 = os.path.join(DATA_PATH, \"G1321243A_wellhead.pdf\")\n",
    "\n",
    "outfile1 = os.path.join(DATA_PATH, \"G929147A_LP_Sales.txt\")\n",
    "outfile2 = os.path.join(DATA_PATH, \"G1320123A_wellhead.txt\")\n",
    "outfile3 = os.path.join(DATA_PATH, \"G1321243A_wellhead.txt\")\n",
    "\n",
    "pdf_files = [file1, file2, file3]\n",
    "output_files = [outfile1, outfile2, outfile3]"
   ]
  },
  {
   "cell_type": "code",
   "execution_count": 5,
   "metadata": {},
   "outputs": [],
   "source": [
    "def convert_pdf_to_text(pdf_files, output_files):\n",
    "    for file, outfile in zip(pdf_files, output_files):\n",
    "        image_file_list = []\n",
    "        with TemporaryDirectory() as tempdir:\n",
    "            pdf_pages = convert_from_path(file, 500)\n",
    "        for page_enumeration, page in enumerate(pdf_pages, start=1):\n",
    "            filename = f\"{tempdir}\\page_{page_enumeration:03}.jpg\"\n",
    "            page.save(filename, \"JPEG\")\n",
    "            image_file_list.append(filename)\n",
    "        with open(outfile, \"a\") as output_file:\n",
    "            for image_file in image_file_list:\n",
    "                text = str(((pytesseract.image_to_string(Image.open(image_file)))))\n",
    "                text = text.replace(\"-\\n\", \"\")\n",
    "                output_file.write(text)\n",
    "\n"
   ]
  },
  {
   "cell_type": "code",
   "execution_count": 6,
   "metadata": {},
   "outputs": [],
   "source": [
    "convert_pdf_to_text(pdf_files, output_files)"
   ]
  },
  {
   "cell_type": "code",
   "execution_count": null,
   "metadata": {},
   "outputs": [],
   "source": []
  }
 ],
 "metadata": {
  "kernelspec": {
   "display_name": "comp_adv_genai",
   "language": "python",
   "name": "python3"
  },
  "language_info": {
   "codemirror_mode": {
    "name": "ipython",
    "version": 3
   },
   "file_extension": ".py",
   "mimetype": "text/x-python",
   "name": "python",
   "nbconvert_exporter": "python",
   "pygments_lexer": "ipython3",
   "version": "3.11.10"
  }
 },
 "nbformat": 4,
 "nbformat_minor": 2
}
